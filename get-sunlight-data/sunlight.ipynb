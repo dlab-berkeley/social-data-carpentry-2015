{
 "cells": [
  {
   "cell_type": "markdown",
   "metadata": {},
   "source": [
    "## Getting Sunlight text"
   ]
  },
  {
   "cell_type": "code",
   "execution_count": 1,
   "metadata": {
    "collapsed": false
   },
   "outputs": [],
   "source": [
    "from sunlight import *\n",
    "import csv\n",
    "import codecs"
   ]
  },
  {
   "cell_type": "code",
   "execution_count": 23,
   "metadata": {
    "collapsed": true
   },
   "outputs": [],
   "source": [
    "all_R = []"
   ]
  },
  {
   "cell_type": "code",
   "execution_count": 24,
   "metadata": {
    "collapsed": false
   },
   "outputs": [],
   "source": [
    "for i in range(100):\n",
    "    response = capitolwords.text(phrase='obamacare', congress='113', page = str(i))\n",
    "    all_R.extend(response)"
   ]
  },
  {
   "cell_type": "code",
   "execution_count": 25,
   "metadata": {
    "collapsed": false
   },
   "outputs": [
    {
     "data": {
      "text/plain": [
       "2363"
      ]
     },
     "execution_count": 25,
     "metadata": {},
     "output_type": "execute_result"
    }
   ],
   "source": [
    "len(all_R)"
   ]
  },
  {
   "cell_type": "code",
   "execution_count": 28,
   "metadata": {
    "collapsed": false
   },
   "outputs": [],
   "source": [
    "for i in all_R:\n",
    "    for key in i.keys():\n",
    "        try:\n",
    "            i.update({ key : str(i[key]).decode('utf-8') })\n",
    "        except UnicodeEncodeError:\n",
    "            i.update({ key : 'Jose' })"
   ]
  },
  {
   "cell_type": "code",
   "execution_count": 29,
   "metadata": {
    "collapsed": false
   },
   "outputs": [],
   "source": [
    "statements = []\n",
    "for i in all_R:\n",
    "    dic = {}\n",
    "    dic['chamber'] = i['chamber'].encode('utf8')\n",
    "    dic['congress'] = i['congress'].encode('utf8')\n",
    "    dic['date'] = i['date'].encode('utf8')\n",
    "    dic['number'] = i['number'].encode('utf8')\n",
    "    dic['order'] = i['order'].encode('utf8')\n",
    "    dic['speaker_first'] = i['speaker_first'].encode('utf8')\n",
    "    dic['speaker_last'] = i['speaker_last'].encode('utf8')\n",
    "    dic['speaker_party'] = i['speaker_party'].encode('utf8')\n",
    "    dic['speaker_state'] = i['speaker_state'].encode('utf8')\n",
    "    dic['speaker_first'] = i['speaker_first'].encode('utf8')\n",
    "    dic['speaking'] = i['speaking'].encode('utf8')\n",
    "    statements.append(dic)"
   ]
  },
  {
   "cell_type": "code",
   "execution_count": 30,
   "metadata": {
    "collapsed": false
   },
   "outputs": [],
   "source": [
    "keys = statements[0].keys()"
   ]
  },
  {
   "cell_type": "code",
   "execution_count": 31,
   "metadata": {
    "collapsed": false
   },
   "outputs": [],
   "source": [
    "#writing the rest\n",
    "with codecs.open('data.csv', 'w', 'utf8') as output_file:\n",
    "    dict_writer = csv.DictWriter(output_file, keys)\n",
    "    dict_writer.writeheader()\n",
    "    dict_writer.writerows(statements)"
   ]
  },
  {
   "cell_type": "code",
   "execution_count": null,
   "metadata": {
    "collapsed": true
   },
   "outputs": [],
   "source": []
  }
 ],
 "metadata": {
  "kernelspec": {
   "display_name": "Python 2",
   "language": "python",
   "name": "python2"
  },
  "language_info": {
   "codemirror_mode": {
    "name": "ipython",
    "version": 2
   },
   "file_extension": ".py",
   "mimetype": "text/x-python",
   "name": "python",
   "nbconvert_exporter": "python",
   "pygments_lexer": "ipython2",
   "version": "2.7.9"
  }
 },
 "nbformat": 4,
 "nbformat_minor": 0
}
